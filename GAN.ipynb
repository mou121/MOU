{
  "nbformat": 4,
  "nbformat_minor": 0,
  "metadata": {
    "colab": {
      "provenance": [],
      "gpuType": "T4",
      "authorship_tag": "ABX9TyPpThYnnh9HNfNZiyluYFkq",
      "include_colab_link": true
    },
    "kernelspec": {
      "name": "python3",
      "display_name": "Python 3"
    },
    "language_info": {
      "name": "python"
    },
    "accelerator": "GPU"
  },
  "cells": [
    {
      "cell_type": "markdown",
      "metadata": {
        "id": "view-in-github",
        "colab_type": "text"
      },
      "source": [
        "<a href=\"https://colab.research.google.com/github/mou121/MOU/blob/master/GAN.ipynb\" target=\"_parent\"><img src=\"https://colab.research.google.com/assets/colab-badge.svg\" alt=\"Open In Colab\"/></a>"
      ]
    },
    {
      "cell_type": "code",
      "execution_count": 1,
      "metadata": {
        "colab": {
          "base_uri": "https://localhost:8080/"
        },
        "id": "EZy7yf2z3wiJ",
        "outputId": "13ef66e4-0d0e-4101-bffe-181bc178d1d6"
      },
      "outputs": [
        {
          "output_type": "stream",
          "name": "stdout",
          "text": [
            "Tue Apr 30 12:00:51 2024       \n",
            "+---------------------------------------------------------------------------------------+\n",
            "| NVIDIA-SMI 535.104.05             Driver Version: 535.104.05   CUDA Version: 12.2     |\n",
            "|-----------------------------------------+----------------------+----------------------+\n",
            "| GPU  Name                 Persistence-M | Bus-Id        Disp.A | Volatile Uncorr. ECC |\n",
            "| Fan  Temp   Perf          Pwr:Usage/Cap |         Memory-Usage | GPU-Util  Compute M. |\n",
            "|                                         |                      |               MIG M. |\n",
            "|=========================================+======================+======================|\n",
            "|   0  Tesla T4                       Off | 00000000:00:04.0 Off |                    0 |\n",
            "| N/A   62C    P8              12W /  70W |      0MiB / 15360MiB |      0%      Default |\n",
            "|                                         |                      |                  N/A |\n",
            "+-----------------------------------------+----------------------+----------------------+\n",
            "                                                                                         \n",
            "+---------------------------------------------------------------------------------------+\n",
            "| Processes:                                                                            |\n",
            "|  GPU   GI   CI        PID   Type   Process name                            GPU Memory |\n",
            "|        ID   ID                                                             Usage      |\n",
            "|=======================================================================================|\n",
            "|  No running processes found                                                           |\n",
            "+---------------------------------------------------------------------------------------+\n"
          ]
        }
      ],
      "source": [
        "!nvidia-smi"
      ]
    },
    {
      "cell_type": "code",
      "source": [
        "import torch,pdb\n",
        "from torch.utils.data import DataLoader\n",
        "from torch import nn\n",
        "from torchvision import transforms\n",
        "from torchvision.datasets import MNIST\n",
        "from torchvision.utils import make_grid\n",
        "from tqdm.auto import tqdm\n",
        "import matplotlib.pyplot as plt"
      ],
      "metadata": {
        "id": "JqjO0Y2I7V3y"
      },
      "execution_count": 5,
      "outputs": []
    },
    {
      "cell_type": "code",
      "source": [
        "#visualization function\n",
        "def show(tensor, ch=1, size=(28,28),num=16):\n",
        "  data=tensor.detach().cpu().view(-1,ch,*size)\n",
        "  grid=make_grid(data[:num],nrows=4)\n",
        "  plt.imshow(grid)\n",
        "  plt.show()"
      ],
      "metadata": {
        "id": "6UyIeu2m8YnZ"
      },
      "execution_count": 6,
      "outputs": []
    },
    {
      "cell_type": "code",
      "source": [
        "epochs=500\n",
        "cur_step=0\n",
        "info_step=300\n",
        "mean_gen_loss=0\n",
        "mean_disc_loss=0\n",
        "z_dim=64\n",
        "lr=0.00001\n",
        "loss_func=nn.BCEWithLogitsLoss()\n",
        "bs=128\n",
        "device='cuda'\n",
        "dataloader=DataLoader(MNIST('.',download=True, transform=transforms.ToTensor()),shuffle=True,batch_size=bs)"
      ],
      "metadata": {
        "colab": {
          "base_uri": "https://localhost:8080/"
        },
        "id": "Gg6DQkFKBEhz",
        "outputId": "3960b115-a199-46f4-b0b8-9d36290a8b7c"
      },
      "execution_count": 7,
      "outputs": [
        {
          "output_type": "stream",
          "name": "stdout",
          "text": [
            "Downloading http://yann.lecun.com/exdb/mnist/train-images-idx3-ubyte.gz\n",
            "Downloading http://yann.lecun.com/exdb/mnist/train-images-idx3-ubyte.gz to ./MNIST/raw/train-images-idx3-ubyte.gz\n"
          ]
        },
        {
          "output_type": "stream",
          "name": "stderr",
          "text": [
            "100%|██████████| 9912422/9912422 [05:02<00:00, 32795.79it/s]\n"
          ]
        },
        {
          "output_type": "stream",
          "name": "stdout",
          "text": [
            "Extracting ./MNIST/raw/train-images-idx3-ubyte.gz to ./MNIST/raw\n",
            "\n",
            "Downloading http://yann.lecun.com/exdb/mnist/train-labels-idx1-ubyte.gz\n",
            "Downloading http://yann.lecun.com/exdb/mnist/train-labels-idx1-ubyte.gz to ./MNIST/raw/train-labels-idx1-ubyte.gz\n"
          ]
        },
        {
          "output_type": "stream",
          "name": "stderr",
          "text": [
            "100%|██████████| 28881/28881 [00:00<00:00, 133500.66it/s]\n"
          ]
        },
        {
          "output_type": "stream",
          "name": "stdout",
          "text": [
            "Extracting ./MNIST/raw/train-labels-idx1-ubyte.gz to ./MNIST/raw\n",
            "\n",
            "Downloading http://yann.lecun.com/exdb/mnist/t10k-images-idx3-ubyte.gz\n",
            "Downloading http://yann.lecun.com/exdb/mnist/t10k-images-idx3-ubyte.gz to ./MNIST/raw/t10k-images-idx3-ubyte.gz\n"
          ]
        },
        {
          "output_type": "stream",
          "name": "stderr",
          "text": [
            "100%|██████████| 1648877/1648877 [00:50<00:00, 32766.41it/s]\n"
          ]
        },
        {
          "output_type": "stream",
          "name": "stdout",
          "text": [
            "Extracting ./MNIST/raw/t10k-images-idx3-ubyte.gz to ./MNIST/raw\n",
            "\n",
            "Downloading http://yann.lecun.com/exdb/mnist/t10k-labels-idx1-ubyte.gz\n",
            "Downloading http://yann.lecun.com/exdb/mnist/t10k-labels-idx1-ubyte.gz to ./MNIST/raw/t10k-labels-idx1-ubyte.gz\n"
          ]
        },
        {
          "output_type": "stream",
          "name": "stderr",
          "text": [
            "100%|██████████| 4542/4542 [00:00<00:00, 5206485.04it/s]"
          ]
        },
        {
          "output_type": "stream",
          "name": "stdout",
          "text": [
            "Extracting ./MNIST/raw/t10k-labels-idx1-ubyte.gz to ./MNIST/raw\n",
            "\n"
          ]
        },
        {
          "output_type": "stream",
          "name": "stderr",
          "text": [
            "\n"
          ]
        }
      ]
    },
    {
      "cell_type": "code",
      "source": [
        "#declare our models\n",
        "#Generator\n",
        "def genBlock(inp,out):\n",
        "  return nn.Sequential(nn.Linear(inp,out),\n",
        "                       nn.BatchNorm1d(out),\n",
        "                       nn.ReLU(inplace=True))\n",
        "\n",
        "class Generator(nn.Module):\n",
        "  def __init__(self,z_dim=64,i_dim=784,h_dim=128):\n",
        "    super().__init__()\n",
        "    self.gen = nn.Sequential(genBlock(z_dim,h_dim),\n",
        "                             genBlock(h_dim,h_dim*2),\n",
        "                             genBlock(h_dim*2,h_dim*4),\n",
        "                             genBlock(h_dim*4,h_dim*8),\n",
        "                             nn.Linear(h_dim*8,i_dim),\n",
        "                             nn.Sigmoid(),)\n",
        "  def forward(self,noise):\n",
        "    return self.gen(noise)\n",
        "\n",
        "def gen_noise(number,z_dim):\n",
        "  return torch.randn(number,z_dim).to(device)"
      ],
      "metadata": {
        "id": "CQIrTfeMIGV4"
      },
      "execution_count": 19,
      "outputs": []
    },
    {
      "cell_type": "code",
      "source": [
        "def discBlock(inp,out):\n",
        "  return nn.Sequential(nn.Linear(inp,out),\n",
        "                       nn.LeakyReLU(0.2))\n",
        "\n",
        "class Discriminator(nn.Module):\n",
        "  def __init__(self, i_dim=784,h_dim=256):\n",
        "    super().__init__()\n",
        "    self.disc=nn.Sequential(discBlock(i_dim,h_dim*4),\n",
        "                            discBlock(h_dim*4,h_dim*2),\n",
        "                            discBlock(h_dim*2,h_dim),\n",
        "                            nn.Linear(h_dim,1))\n",
        "    def forward(self,image):\n",
        "      return self.disc(image)\n"
      ],
      "metadata": {
        "id": "k6KwlKSnMusM"
      },
      "execution_count": 9,
      "outputs": []
    },
    {
      "cell_type": "code",
      "source": [
        "gen=Generator(z_dim).to(device)\n",
        "gen_opt=torch.optim.Adam(gen.parameters(),lr=lr)\n",
        "disc=Discriminator().to(device)\n",
        "disc_opt=torch.optim.Adam(disc.parameters(),lr=lr)"
      ],
      "metadata": {
        "id": "kC4TSVzPRCiR"
      },
      "execution_count": 15,
      "outputs": []
    },
    {
      "cell_type": "code",
      "source": [
        "x,y=next(iter(dataloader))\n",
        "print(x.shape,y.shape)\n",
        "print(y[:10])"
      ],
      "metadata": {
        "colab": {
          "base_uri": "https://localhost:8080/"
        },
        "id": "iyVpyn6CSBQy",
        "outputId": "05f0ef06-8a0b-405c-926f-ff2630c91812"
      },
      "execution_count": 16,
      "outputs": [
        {
          "output_type": "stream",
          "name": "stdout",
          "text": [
            "torch.Size([128, 1, 28, 28]) torch.Size([128])\n",
            "tensor([6, 7, 6, 7, 6, 5, 2, 0, 0, 8])\n"
          ]
        }
      ]
    },
    {
      "cell_type": "code",
      "source": [
        "def calc_gen_loss(loss_func,gen,disc,number,z_dim):\n",
        "  noise=gen_noise(number,z_dim)\n",
        "  fake=gen(noise)\n",
        "  pred=disc(fake)\n",
        "  targets=torch.ones_like(pred)\n",
        "  gen_loss=loss_func(pred,targets)\n",
        "\n",
        "def calc_disc_loss(loss_func,gen,disc,number,real,z_dim):\n",
        "  noise=gen_noise(number,z_dim)\n",
        "  fake=gen(noise)\n",
        "  pred_fake=disc(fake.detach())\n",
        "  targets_fake=torch.zeroes_like(pred_fake)\n",
        "  disc_fake_loss=loss_func(pred_fake,targets_fake)\n",
        "  pred_real=disc(real)\n",
        "  targets_real=torch.ones_like(pred_real)\n",
        "  disc_real_loss=loss_func(pred_real,targets_real)\n",
        "  disc_loss=(disc_fake_loss+disc_real_loss)/2\n",
        "  return\n",
        "\n",
        "\n"
      ],
      "metadata": {
        "id": "G1Et5ieRYPDB"
      },
      "execution_count": 20,
      "outputs": []
    }
  ]
}